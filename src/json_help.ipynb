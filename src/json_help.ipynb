{
 "cells": [
  {
   "cell_type": "code",
   "execution_count": null,
   "id": "initial_id",
   "metadata": {
    "collapsed": true
   },
   "outputs": [],
   "source": [
    "import json\n",
    "from pathlib import Path\n",
    "from pprint import pprint\n",
    "\n",
    "with open(Path().cwd().parent / \"Pipfile.lock\", \"r\") as lock_file:\n",
    "    json_obj = json.load(lock_file)\n",
    "    pprint(json_obj, depth=2)\n",
    "    pprint(json_obj['develop'], depth=2)\n",
    "    pprint(json_obj['develop']['black'], depth=2)\n",
    "    pprint(json_obj['develop']['black']['hashes'], depth=2)\n",
    "    pprint(json_obj['develop']['black']['hashes'][0], depth=2)\n"
   ]
  },
  {
   "cell_type": "code",
   "execution_count": null,
   "outputs": [],
   "source": [
    "import json\n",
    "from pprint import pprint\n",
    "\n",
    "# 函数用于将Python对象转换为JSON格式的字符串a\n",
    "json_obj = {\"name\": \"new world\", \"age\": 188, \"friends\": [{\"name\": None, \"age\": 13}]}\n",
    "json_str = json.dumps(json_obj)\n",
    "pprint(json_str)\n",
    "\n",
    "# 函数用于将Python对象转换为JSON格式并将其写入文件对象\n",
    "with open(\"data.json\", \"w\") as json_file:\n",
    "    json.dump(json_obj, json_file)\n"
   ],
   "metadata": {
    "collapsed": false
   },
   "id": "388259d8b60ba231"
  }
 ],
 "metadata": {
  "kernelspec": {
   "display_name": "Python 3",
   "language": "python",
   "name": "python3"
  },
  "language_info": {
   "codemirror_mode": {
    "name": "ipython",
    "version": 2
   },
   "file_extension": ".py",
   "mimetype": "text/x-python",
   "name": "python",
   "nbconvert_exporter": "python",
   "pygments_lexer": "ipython2",
   "version": "2.7.6"
  }
 },
 "nbformat": 4,
 "nbformat_minor": 5
}
