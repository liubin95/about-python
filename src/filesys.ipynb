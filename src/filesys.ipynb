{
 "cells": [
  {
   "cell_type": "code",
   "execution_count": null,
   "outputs": [],
   "source": [
    "from pathlib import Path\n",
    "from pprint import pprint\n",
    "\n",
    "pprint(\"hello world\")\n",
    "pprint(Path.cwd())\n",
    "pprint(Path.home())\n",
    "\n",
    "# 在目录树中移动\n",
    "pprint(Path.home() / \"code\")\n",
    "pprint(Path.home().parent)\n",
    "pprint(Path.cwd().joinpath(\"test.txt\"))\n",
    "\n",
    "# 列出当前目录树下的所有 Python 源代码文件:\n",
    "pprint(list(Path.cwd().glob(\"**/*.py\")))\n",
    "pprint(list(Path.cwd().rglob(\"*.py\")))\n",
    "\n",
    "pprint(list(Path.cwd().parts))\n",
    "pprint(list(Path.cwd().parents))\n",
    "\n",
    "# file name\n",
    "pprint(list(Path.cwd().glob(\"**/*.py\"))[0].name)\n",
    "pprint(list(Path.cwd().glob(\"**/*.py\"))[0].suffix)\n",
    "pprint(list(Path.cwd().glob(\"**/*.py\"))[0].stem)"
   ],
   "metadata": {
    "collapsed": false
   },
   "id": "8d8e6545943ee3f7"
  },
  {
   "cell_type": "code",
   "execution_count": null,
   "outputs": [],
   "source": [
    "_download = Path(\"/Users/liubin/Downloads\")\n",
    "pprint(list(_download.glob(\"*.pdf\")))\n",
    "# 返回一个新的路径并修改 name/stem/suffix。\n",
    "pprint(list(_download.glob(\"*.pdf\"))[0].with_stem(\"vim-new\"))\n",
    "pprint(list(_download.glob(\"*.pdf\"))[0].with_stem(\"vim-new\").exists())\n",
    "pprint(list(_download.glob(\"*.pdf\"))[0].with_stem(\"vim-new\").is_dir())\n",
    "pprint(list(_download.glob(\"*.pdf\"))[0].with_stem(\"vim-new\").is_file())\n",
    "Path(_download / \"demo\").mkdir(parents=True, exist_ok=True, mode=0o777)\n",
    "Path(_download / \"demo\").chmod(0o777)\n",
    "Path(_download / \"demo\").rename(_download / \"demo2\")\n",
    "Path(_download / \"demo\").rmdir()"
   ],
   "metadata": {
    "collapsed": false
   },
   "id": "70ec15361f618834"
  },
  {
   "cell_type": "code",
   "execution_count": null,
   "outputs": [],
   "source": [
    "import fileinput\n",
    "\n",
    "# open file\n",
    "with open(list(_download.glob(\"*.md\"))[0]) as md:\n",
    "    pprint(md.read())\n",
    "# write file\n",
    "_path = Path(_download / \"demo2\")\n",
    "_path.joinpath(\"spam.txt\").write_text(\"hello world\")\n",
    "_path.joinpath(\"eggs.txt\").write_bytes(b\"hello world\")\n",
    "# open multiple files\n",
    "with fileinput.input(\n",
    "    files=(_path.joinpath(\"spam.txt\"), _path.joinpath(\"eggs.txt\"))\n",
    ") as f:\n",
    "    for line in f:\n",
    "        pprint(line)"
   ],
   "metadata": {
    "collapsed": false
   },
   "id": "d1cc26c5896e8991"
  },
  {
   "cell_type": "code",
   "execution_count": null,
   "outputs": [],
   "source": [
    "import tempfile\n",
    "\n",
    "with tempfile.TemporaryFile() as _tf:\n",
    "    _tf.write(b\"hello world\")\n",
    "    _tf.seek(0)\n",
    "    pprint(_tf.read())\n",
    "    _tf.fileno()\n",
    "\n",
    "with tempfile.TemporaryDirectory() as tmpdirname:\n",
    "    pprint(tmpdirname)"
   ],
   "metadata": {
    "collapsed": false
   },
   "id": "61d2daa4328a0d02"
  }
 ],
 "metadata": {
  "kernelspec": {
   "display_name": "Python 3",
   "language": "python",
   "name": "python3"
  },
  "language_info": {
   "codemirror_mode": {
    "name": "ipython",
    "version": 2
   },
   "file_extension": ".py",
   "mimetype": "text/x-python",
   "name": "python",
   "nbconvert_exporter": "python",
   "pygments_lexer": "ipython2",
   "version": "2.7.6"
  }
 },
 "nbformat": 4,
 "nbformat_minor": 5
}
