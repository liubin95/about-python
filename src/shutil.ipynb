{
 "cells": [
  {
   "cell_type": "code",
   "execution_count": null,
   "id": "initial_id",
   "metadata": {
    "collapsed": true
   },
   "outputs": [],
   "source": [
    "import shutil\n",
    "from pathlib import Path\n",
    "from pprint import pprint\n",
    "\n",
    "# copy file\n",
    "_path = Path(\"/Users/liubin/Downloads\")\n",
    "_pdf_list = _path.glob(\"*.pdf\")\n",
    "(_path / \"demo2\").mkdir(exist_ok=True)\n",
    "for _it in _pdf_list:\n",
    "    shutil.copy2(_it, _path / \"demo2\" / _it.name)\n",
    "pprint(list((_path / \"demo2\").glob(\"*.*\")))\n",
    "# remove dir\n",
    "shutil.rmtree(_path / \"demo3\", ignore_errors=True)\n",
    "# move file\n",
    "if (_path / \"vim.pdf\").exists():\n",
    "    shutil.move(\n",
    "        _path / \"vim.pdf\",\n",
    "        _path / \"demo3\" / \"vim.pdf\",\n",
    "    )\n",
    "# copy dir\n",
    "shutil.copytree(_path / \"demo2\", _path / \"demo3\")\n",
    "\n",
    "# tar file\n",
    "pprint(shutil.get_archive_formats())\n",
    "shutil.make_archive(_path / \"demo3\", \"gztar\", _path / \"demo3\")"
   ]
  }
 ],
 "metadata": {
  "kernelspec": {
   "display_name": "Python 3",
   "language": "python",
   "name": "python3"
  },
  "language_info": {
   "codemirror_mode": {
    "name": "ipython",
    "version": 2
   },
   "file_extension": ".py",
   "mimetype": "text/x-python",
   "name": "python",
   "nbconvert_exporter": "python",
   "pygments_lexer": "ipython2",
   "version": "2.7.6"
  }
 },
 "nbformat": 4,
 "nbformat_minor": 5
}
