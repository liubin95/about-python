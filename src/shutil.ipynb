{
 "cells": [
  {
   "cell_type": "code",
   "execution_count": 10,
   "id": "initial_id",
   "metadata": {
    "collapsed": true,
    "ExecuteTime": {
     "end_time": "2023-11-15T08:24:26.644311Z",
     "start_time": "2023-11-15T08:24:26.288658Z"
    }
   },
   "outputs": [
    {
     "name": "stdout",
     "output_type": "stream",
     "text": [
      "[PosixPath('/Users/liubin/Downloads/demo2/vim.pdf'),\n",
      " PosixPath('/Users/liubin/Downloads/demo2/2023年员工体检指引.pdf'),\n",
      " PosixPath('/Users/liubin/Downloads/demo2/总经办【2023】字055号—价值在线2023年员工体检通知.pdf'),\n",
      " PosixPath('/Users/liubin/Downloads/demo2/互联网-2.pdf'),\n",
      " PosixPath('/Users/liubin/Downloads/demo2/互联网-1.pdf')]\n",
      "[('bztar', \"bzip2'ed tar-file\"),\n",
      " ('gztar', \"gzip'ed tar-file\"),\n",
      " ('tar', 'uncompressed tar file'),\n",
      " ('xztar', \"xz'ed tar-file\"),\n",
      " ('zip', 'ZIP file')]\n"
     ]
    },
    {
     "data": {
      "text/plain": "'/Users/liubin/Downloads/demo3.tar.gz'"
     },
     "execution_count": 10,
     "metadata": {},
     "output_type": "execute_result"
    }
   ],
   "source": [
    "import shutil\n",
    "from pathlib import Path\n",
    "from pprint import pprint\n",
    "\n",
    "# copy file \n",
    "_path = Path(\"/Users/liubin/Downloads\")\n",
    "_pdf_list = _path.glob(\"*.pdf\")\n",
    "(_path / \"demo2\").mkdir(exist_ok=True)\n",
    "for _it in _pdf_list:\n",
    "    shutil.copy2(_it, _path / \"demo2\" / _it.name)\n",
    "pprint(list((_path / \"demo2\").glob(\"*.*\")))\n",
    "# remove dir\n",
    "shutil.rmtree(_path / \"demo3\", ignore_errors=True)\n",
    "# move file\n",
    "if (_path / \"vim.pdf\").exists():\n",
    "    shutil.move(_path / \"vim.pdf\", _path / \"demo3\" / \"vim.pdf\", )\n",
    "# copy dir\n",
    "shutil.copytree(_path / \"demo2\", _path / \"demo3\")\n",
    "\n",
    "# tar file\n",
    "pprint(shutil.get_archive_formats())\n",
    "shutil.make_archive(_path / \"demo3\", \"gztar\", _path / \"demo3\")"
   ]
  }
 ],
 "metadata": {
  "kernelspec": {
   "display_name": "Python 3",
   "language": "python",
   "name": "python3"
  },
  "language_info": {
   "codemirror_mode": {
    "name": "ipython",
    "version": 2
   },
   "file_extension": ".py",
   "mimetype": "text/x-python",
   "name": "python",
   "nbconvert_exporter": "python",
   "pygments_lexer": "ipython2",
   "version": "2.7.6"
  }
 },
 "nbformat": 4,
 "nbformat_minor": 5
}
