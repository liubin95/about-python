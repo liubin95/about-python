{
 "cells": [
  {
   "cell_type": "code",
   "execution_count": null,
   "id": "initial_id",
   "metadata": {
    "collapsed": true
   },
   "outputs": [],
   "source": [
    "from datetime import date\n",
    "\n",
    "import pandas as pd\n",
    "\n",
    "# parse_dates 可以直接解析date\n",
    "df = pd.read_excel(\"/data/tmp/2023.09_中上协_董事兼职情况_(2022).xlsx\", sheet_name=1,\n",
    "                   parse_dates=['start_date', 'end_date'])\n",
    "df.head()"
   ]
  },
  {
   "cell_type": "code",
   "execution_count": null,
   "outputs": [],
   "source": [
    "# 去重\n",
    "df = df.drop_duplicates(subset=[\"people_name\", \"comp_name_zh_cn\", \"employer\"])\n",
    "df"
   ],
   "metadata": {
    "collapsed": false
   },
   "id": "ce2440f8361ee1d2"
  },
  {
   "cell_type": "code",
   "execution_count": null,
   "outputs": [],
   "source": [
    "# 删除无效数据\n",
    "df = df.dropna(subset=[\"people_name\", \"comp_name_zh_cn\", \"employer\"])\n",
    "df"
   ],
   "metadata": {
    "collapsed": false
   },
   "id": "786ca2586bf28eff"
  },
  {
   "cell_type": "code",
   "execution_count": null,
   "outputs": [],
   "source": [
    "# 筛选出 'start_date' 长度小于 6 的行\n",
    "# 当组合多个条件语句时，每个条件都必须用括号括起来()。而且，不能使用 or/ and，而需要使用or运算符|和and 运算符&。\n",
    "filtered_rows = df[(df['start_date'].str.len() < 10) | (df['end_date'].str.len() < 10)]\n",
    "filtered_rows['start_date'] = filtered_rows['start_date'].apply(lambda x: (str(x) + '-01' * 2)[:10])\n",
    "filtered_rows['end_date'] = filtered_rows['end_date'].apply(lambda x: (str(x) + '-01' * 2)[:10])\n",
    "filtered_rows"
   ],
   "metadata": {
    "collapsed": false
   },
   "id": "5d711decf3ada89a"
  },
  {
   "cell_type": "code",
   "execution_count": null,
   "outputs": [],
   "source": [
    "# 更新原始 DataFrame\n",
    "df.update(filtered_rows)\n",
    "df"
   ],
   "metadata": {
    "collapsed": false
   },
   "id": "860395717774c441"
  },
  {
   "cell_type": "code",
   "execution_count": null,
   "outputs": [],
   "source": [
    "# 替换 'end_date' 列中的异常值为指定的值，例如 'N/A'\n",
    "df['end_date'].replace(to_replace='^9999.*', value=\"NaN\", regex=True, inplace=True)\n",
    "# titanic[\"Sex_short\"] = titanic[\"Sex\"].replace({\"male\": \"M\", \"female\": \"F\"})\n",
    "# 但它提供了一种使用映射或词汇表来转换某些值的便捷方法。它需要dictionary来定义映射。{from : to}\n",
    "df"
   ],
   "metadata": {
    "collapsed": false
   },
   "id": "d9a493fa521f6da3"
  },
  {
   "cell_type": "code",
   "execution_count": null,
   "outputs": [],
   "source": [
    "# 将 'end_date' 列中的 NaN 替换为默认值（例如，0）\n",
    "df['start_date'].fillna(date.today(), inplace=True)\n",
    "# fillna 不会直接处理NAT。 需要单独赋值操作\n",
    "df['end_date'] = df['end_date'].fillna(date.today())\n",
    "df"
   ],
   "metadata": {
    "collapsed": false
   },
   "id": "a7a17206993de47b"
  },
  {
   "cell_type": "code",
   "execution_count": null,
   "outputs": [],
   "source": [
    "# 将 'start_date' 和 'end_date' 列中的值转换为 datetime 类型\n",
    "df['start_date'] = pd.to_datetime(df['start_date'])\n",
    "df['end_date'] = pd.to_datetime(df['end_date'])\n",
    "df['start_date'].min(), df['start_date'].max(), df['end_date'].min(), df['end_date'].max()"
   ],
   "metadata": {
    "collapsed": false
   },
   "id": "e2cb771dc678a5b3"
  },
  {
   "cell_type": "code",
   "execution_count": null,
   "outputs": [],
   "source": [
    "from datetime import timedelta\n",
    "import numpy as np\n",
    "\n",
    "start_date = date(2022, 1, 1)\n",
    "end_date = date(2022, 12, 31)\n",
    "df['max_start_date'] = np.maximum(df['start_date'].dt.date, start_date)\n",
    "df['min_end_date'] = np.minimum(df['end_date'].dt.date, end_date)\n",
    "df['work_days'] = np.minimum(df['end_date'].dt.date, end_date) - np.maximum(df['start_date'].dt.date, start_date)\n",
    "# df[df['work_days'] > timedelta(days=180)]\n",
    "df = df[np.minimum(df['end_date'].dt.date, end_date) - np.maximum(df['start_date'].dt.date, start_date) > timedelta(\n",
    "    days=180)]\n",
    "df[['work_days', 'max_start_date', 'min_end_date']]"
   ],
   "metadata": {
    "collapsed": false
   },
   "id": "73386dbdbea48775"
  },
  {
   "cell_type": "code",
   "execution_count": null,
   "outputs": [],
   "source": [
    "grouped_df = df.groupby([\"people_name\", \"comp_name_zh_cn\"])\n",
    "grouped_df"
   ],
   "metadata": {
    "collapsed": false
   },
   "id": "d77e6f462bc6e867"
  },
  {
   "cell_type": "code",
   "execution_count": null,
   "outputs": [],
   "source": [
    "grouped_df = grouped_df.agg({\"employer\": \"count\"})\n",
    "grouped_df"
   ],
   "metadata": {
    "collapsed": false
   },
   "id": "7f02f96569729f21"
  },
  {
   "cell_type": "code",
   "execution_count": null,
   "outputs": [],
   "source": [
    "sorted_df = grouped_df.sort_values(by=\"employer\", ascending=False)\n",
    "sorted_df = sorted_df[sorted_df['employer'] > 3]\n",
    "sorted_df"
   ],
   "metadata": {
    "collapsed": false
   },
   "id": "7fbaad6d605a1142"
  }
 ],
 "metadata": {
  "kernelspec": {
   "display_name": "Python 3",
   "language": "python",
   "name": "python3"
  },
  "language_info": {
   "codemirror_mode": {
    "name": "ipython",
    "version": 2
   },
   "file_extension": ".py",
   "mimetype": "text/x-python",
   "name": "python",
   "nbconvert_exporter": "python",
   "pygments_lexer": "ipython2",
   "version": "2.7.6"
  }
 },
 "nbformat": 4,
 "nbformat_minor": 5
}
