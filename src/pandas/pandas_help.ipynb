{
 "cells": [
  {
   "cell_type": "code",
   "execution_count": null,
   "id": "initial_id",
   "metadata": {
    "collapsed": true
   },
   "outputs": [],
   "source": [
    "from pprint import pprint\n",
    "\n",
    "import pandas as pd\n",
    "\n",
    "data = {'Name': ['Alice', 'Bob', 'Charlie'],\n",
    "        'Age': [25, 30, 35],\n",
    "        'City': ['New York', 'San Francisco', 'Los Angeles']}\n",
    "df = pd.DataFrame(data)\n",
    "pprint(df)"
   ]
  },
  {
   "cell_type": "code",
   "execution_count": null,
   "outputs": [],
   "source": [
    "# read file\n",
    "# Missing optional dependency 'openpyxl'.  Use pip or conda to install openpyxl.\n",
    "df = pd.read_excel('/data/tmp/2023.09_中上协_董事会出席及亲自出席情况_(2022).xlsx', sheet_name=1)\n",
    "pprint(df)"
   ],
   "metadata": {
    "collapsed": false
   },
   "id": "39676bff5038731d"
  },
  {
   "cell_type": "code",
   "execution_count": null,
   "outputs": [],
   "source": [
    "# filter report_year = 2022\n",
    "df = df[df['report_year'] == 2022]\n",
    "df = df[df.is_independent]\n",
    "df = df[df.num_of_absence != 0]\n",
    "df.sort_values(by=['comp_name_zh_cn'], inplace=True, ascending=False)\n",
    "pprint(df)"
   ],
   "metadata": {
    "collapsed": false
   },
   "id": "c8dee1938b694990"
  },
  {
   "cell_type": "code",
   "execution_count": null,
   "outputs": [],
   "source": [
    "grouped_df = df.groupby('people_name')\n",
    "print(grouped_df.count())\n",
    "print(grouped_df['comp_name_zh_cn'].count().sort_values(ascending=False))\n"
   ],
   "metadata": {
    "collapsed": false
   },
   "id": "d07a189b431b7fe9"
  },
  {
   "cell_type": "code",
   "execution_count": null,
   "outputs": [],
   "source": [
    "grouped_df = df.groupby('comp_name_zh_cn')\n",
    "print(grouped_df)\n",
    "print(grouped_df['num_of_absence'].sum().sort_values(ascending=False))\n",
    "print(grouped_df.get_group('中国光大银行股份有限公司')['num_of_absence'].sum())"
   ],
   "metadata": {
    "collapsed": false
   },
   "id": "d1cd959a3f1ecf56"
  },
  {
   "cell_type": "code",
   "execution_count": null,
   "outputs": [],
   "source": [
    "import pandas as pd\n",
    "\n",
    "# 创建一个示例 DataFrame\n",
    "data = {'Category': ['A', 'B', 'A', 'B', 'A', 'B'],\n",
    "        'Value': [10, 20, 15, 25, 12, 18]}\n",
    "df = pd.DataFrame(data)\n",
    "\n",
    "# 按照 'Category' 列进行分组，并在每个分组内按照 'Value' 列进行排序\n",
    "sorted_df = df.groupby('Category').apply(lambda x: x.sort_values('Value'))\n",
    "\n",
    "# 重置索引，因为排序后的结果索引会变化\n",
    "sorted_df = sorted_df.reset_index(drop=True)\n",
    "\n",
    "# 打印排序后的结果\n",
    "print(sorted_df)"
   ],
   "metadata": {
    "collapsed": false
   },
   "id": "2bbefe6c7e06fc71"
  },
  {
   "cell_type": "code",
   "execution_count": null,
   "outputs": [],
   "source": [],
   "metadata": {
    "collapsed": false
   },
   "id": "b1c5ca6e0a224a0d"
  }
 ],
 "metadata": {
  "kernelspec": {
   "display_name": "Python 3",
   "language": "python",
   "name": "python3"
  },
  "language_info": {
   "codemirror_mode": {
    "name": "ipython",
    "version": 2
   },
   "file_extension": ".py",
   "mimetype": "text/x-python",
   "name": "python",
   "nbconvert_exporter": "python",
   "pygments_lexer": "ipython2",
   "version": "2.7.6"
  }
 },
 "nbformat": 4,
 "nbformat_minor": 5
}
