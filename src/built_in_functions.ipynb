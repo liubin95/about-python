{
 "cells": [
  {
   "cell_type": "code",
   "execution_count": null,
   "outputs": [],
   "source": [
    "print(\"hello jupyter\")"
   ],
   "metadata": {
    "collapsed": false
   },
   "id": "a999c680e607b93"
  },
  {
   "cell_type": "code",
   "execution_count": null,
   "outputs": [],
   "source": [
    "numbers = [1, 2, 3]\n",
    "numbers = map(lambda it: it * 2, numbers)\n",
    "numbers = list(numbers)\n",
    "print(\"number and map\")\n",
    "print(numbers)"
   ],
   "metadata": {
    "collapsed": false
   },
   "id": "ea6077f8ccf5edcb"
  },
  {
   "cell_type": "code",
   "execution_count": null,
   "outputs": [],
   "source": [
    "string = \"hello\"\n",
    "print(string)\n",
    "string = map(lambda it: it.upper(), string)\n",
    "string = list(string)\n",
    "print(string)\n",
    "string = \"\".join(string)\n",
    "print(string)"
   ],
   "metadata": {
    "collapsed": false
   },
   "id": "331b913c6452d3b3"
  },
  {
   "cell_type": "code",
   "execution_count": null,
   "outputs": [],
   "source": [
    "numbers = [1, 2, 3]\n",
    "numbers = filter(lambda it: it % 2 == 0, numbers)\n",
    "numbers = list(numbers)\n",
    "print(numbers)"
   ],
   "metadata": {
    "collapsed": false
   },
   "id": "2edb43e6d468378e"
  },
  {
   "cell_type": "code",
   "execution_count": null,
   "outputs": [],
   "source": [
    "numbers = [1, 10, 3]\n",
    "max_number = max(numbers)\n",
    "print(max_number)\n",
    "max_number = max(1, 2, 5, 10)\n",
    "print(max_number)\n",
    "numbers = [(1, 2), (5, 10), (100, 2)]\n",
    "max_number = max(key=lambda it: it[1], *numbers)\n",
    "print(max_number)"
   ],
   "metadata": {
    "collapsed": false
   },
   "id": "92341a4be9b600ad"
  },
  {
   "cell_type": "code",
   "execution_count": null,
   "outputs": [],
   "source": [
    "range_arr = range(1, 10)\n",
    "print(range_arr)\n",
    "range_arr = list(range_arr)\n",
    "print(range_arr)\n",
    "range_arr = range(1, 10, 2)\n",
    "print(list(range_arr))"
   ],
   "metadata": {
    "collapsed": false
   },
   "id": "af25f48dfeadc324"
  },
  {
   "cell_type": "code",
   "execution_count": null,
   "outputs": [],
   "source": [
    "numbers = list(range(1, 10))\n",
    "print(numbers[0], numbers[4], len(numbers), numbers[-1])\n",
    "numbers = numbers[2:9:2]\n",
    "print(numbers)\n",
    "numbers = numbers[1:]\n",
    "print(numbers)\n",
    "numbers = numbers[:2]\n",
    "print(numbers)"
   ],
   "metadata": {
    "collapsed": false
   },
   "id": "b60662b26c0a6ce3"
  },
  {
   "cell_type": "code",
   "execution_count": null,
   "outputs": [],
   "source": [
    "numbers = list(range(1, 10))\n",
    "numbers = sorted(numbers, reverse=True)\n",
    "print(numbers)\n",
    "numbers = sorted(numbers, key=lambda it: it % 2 == 0)\n",
    "print(numbers)"
   ],
   "metadata": {
    "collapsed": false
   },
   "id": "630a18b1a3c3e3dd"
  },
  {
   "cell_type": "code",
   "execution_count": null,
   "outputs": [],
   "source": [
    "numbers = list(range(1, 10))\n",
    "number = sum(numbers)\n",
    "print(number)\n",
    "number = sum(numbers, -5)\n",
    "print(number)"
   ],
   "metadata": {
    "collapsed": false
   },
   "id": "34a17e9281ffd197"
  }
 ],
 "metadata": {
  "kernelspec": {
   "display_name": "Python 3",
   "language": "python",
   "name": "python3"
  },
  "language_info": {
   "codemirror_mode": {
    "name": "ipython",
    "version": 2
   },
   "file_extension": ".py",
   "mimetype": "text/x-python",
   "name": "python",
   "nbconvert_exporter": "python",
   "pygments_lexer": "ipython2",
   "version": "2.7.6"
  }
 },
 "nbformat": 4,
 "nbformat_minor": 5
}
