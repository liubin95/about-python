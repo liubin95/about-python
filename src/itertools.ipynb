{
 "cells": [
  {
   "cell_type": "code",
   "execution_count": null,
   "id": "initial_id",
   "metadata": {
    "collapsed": true
   },
   "outputs": [],
   "source": [
    "import itertools\n",
    "from pprint import pprint\n",
    "\n",
    "# itertools模块提供的全部是处理迭代功能的函数，它们的返回值不是list，而是Iterator，只有用for循环迭代的时候才真正计算\n",
    "res = itertools.repeat(\"A\", 5)\n",
    "print(type(res), res)\n",
    "res = list(res)\n",
    "print(type(res), list(res))\n",
    "_count = itertools.takewhile(lambda x: x < 10, itertools.count(2, 2))\n",
    "pprint(list(_count))\n",
    "\n",
    "num = 0\n",
    "for it in itertools.cycle(\"ABCD\"):\n",
    "    print(it)\n",
    "    num += 1\n",
    "    if num > 20:\n",
    "        break\n",
    "\n",
    "# 笛卡尔积\n",
    "_product = list(itertools.product(\"ABCD\", \"123\"))\n",
    "print(_product)\n",
    "# 分组\n",
    "_product = itertools.groupby(_product, key=lambda x: x[0])\n",
    "_product = {k: list(v) for k, v in _product}\n",
    "pprint(_product)\n",
    "# 可以把一组迭代对象串联起来，形成一个更大的迭代器\n",
    "_chain = itertools.chain([1, 2.5], \"ABBREV\")\n",
    "pprint(_chain)\n",
    "pprint(list(_chain))"
   ]
  },
  {
   "cell_type": "markdown",
   "source": [
    "计算圆周率可以根据公式：\n",
    "$$\n",
    "\\frac{\\pi}{4} = 1 - \\frac{1}{3} + \\frac{1}{5} - \\frac{1}{7} + \\cdots\n",
    "$$\n",
    "利用Python提供的itertools模块，我们来计算这个序列的前N项和：\n",
    "``` python\n",
    "# 测试:\n",
    "print(pi(10))\n",
    "print(pi(100))\n",
    "print(pi(1000))\n",
    "print(pi(10000))\n",
    "assert 3.04 < pi(10) < 3.05\n",
    "assert 3.13 < pi(100) < 3.14\n",
    "assert 3.140 < pi(1000) < 3.141\n",
    "assert 3.1414 < pi(10000) < 3.1415\n",
    "print('ok')\n",
    "```"
   ],
   "metadata": {
    "collapsed": false
   },
   "id": "167febbb35381823"
  },
  {
   "cell_type": "code",
   "execution_count": null,
   "outputs": [],
   "source": [
    "from decimal import Decimal\n",
    "from fractions import Fraction\n",
    "import itertools\n",
    "\n",
    "\n",
    "def pi(n):\n",
    "    \"\"\"\n",
    "    计算pi的值\n",
    "    \"\"\"\n",
    "    # step 1: 创建一个奇数序列: 1, 3, 5, 7, 9, ...\n",
    "    # step 2: 取该序列的前N项: 1, 3, 5, 7, 9, ..., 2*N-1.\n",
    "    _num = 0\n",
    "    _list = []\n",
    "    for _it in itertools.count(1, 2):\n",
    "        if _num >= n:\n",
    "            break\n",
    "        _num += 1\n",
    "        _list.append(_it)\n",
    "    print(_list, len(_list))\n",
    "    # step 3: 添加正负符号并用4除: 4/1, -4/3, 4/5, -4/7, 4/9, ...\n",
    "    for _index, _it in enumerate(_list):\n",
    "        if _index % 2 != 0:\n",
    "            _it = -_it\n",
    "        _list[_index] = Fraction(4, _it)\n",
    "    pprint(_list)\n",
    "    # pprint(_list)\n",
    "    # step 4: 求和:\n",
    "    _sum = sum(_list)\n",
    "    pprint(_sum)\n",
    "    _sum = _sum.numerator / Decimal(_sum.denominator)\n",
    "    pprint(_sum)\n",
    "    return _sum\n",
    "\n",
    "\n",
    "# 测试:\n",
    "# print(pi(10))\n",
    "# print(pi(100))\n",
    "# print(pi(1000))\n",
    "# print(pi(10000))\n",
    "assert 3.04 < pi(10) < 3.05\n",
    "assert 3.13 < pi(100) < 3.14\n",
    "assert 3.140 < pi(1000) < 3.141\n",
    "assert 3.1414 < pi(10000) < 3.1415\n",
    "print(\"ok\")"
   ],
   "metadata": {
    "collapsed": false
   },
   "id": "98c26efab4c47350"
  }
 ],
 "metadata": {
  "kernelspec": {
   "display_name": "Python 3",
   "language": "python",
   "name": "python3"
  },
  "language_info": {
   "codemirror_mode": {
    "name": "ipython",
    "version": 2
   },
   "file_extension": ".py",
   "mimetype": "text/x-python",
   "name": "python",
   "nbconvert_exporter": "python",
   "pygments_lexer": "ipython2",
   "version": "2.7.6"
  }
 },
 "nbformat": 4,
 "nbformat_minor": 5
}
