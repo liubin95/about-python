{
 "cells": [
  {
   "cell_type": "code",
   "execution_count": 5,
   "id": "initial_id",
   "metadata": {
    "collapsed": true,
    "ExecuteTime": {
     "end_time": "2023-11-16T03:04:06.739335Z",
     "start_time": "2023-11-16T03:04:06.725681Z"
    }
   },
   "outputs": [
    {
     "name": "stdout",
     "output_type": "stream",
     "text": [
      "/Users/liubin/code/git-log/src\n",
      "/Users/liubin/.local/share/virtualenvs/git-log-ZdFRf_T-/bin:/Users/liubin/bin:/usr/local/bin:/opt/homebrew/bin:/opt/jdk1.8.0_381.jdk/Contents/Home/bin:/Users/liubin/.cargo/bin:/opt/homebrew/opt/tomcat@9/bin:/Users/liubin/.nvm/versions/node/v16.20.2/bin:/Users/liubin/.zplug/bin:/usr/local/bin:/System/Cryptexes/App/usr/bin:/usr/bin:/bin:/usr/sbin:/sbin:/Library/Apple/usr/bin:/var/run/com.apple.security.cryptexd/codex.system/bootstrap/usr/local/bin:/var/run/com.apple.security.cryptexd/codex.system/bootstrap/usr/bin:/var/run/com.apple.security.cryptexd/codex.system/bootstrap/usr/appleinternal/bin:/Users/liubin/Library/Application Support/JetBrains/Toolbox/scripts\n",
      "posix\n",
      "None\n",
      "/Users/liubin/Downloads\n"
     ]
    }
   ],
   "source": [
    "import os\n",
    "\n",
    "print(os.getcwd())\n",
    "print(os.getenv(\"PATH\"))\n",
    "print(os.name)\n",
    "print(os.chdir(\"/Users/liubin/Downloads\"))\n",
    "print(os.getcwd())"
   ]
  }
 ],
 "metadata": {
  "kernelspec": {
   "display_name": "Python 3",
   "language": "python",
   "name": "python3"
  },
  "language_info": {
   "codemirror_mode": {
    "name": "ipython",
    "version": 2
   },
   "file_extension": ".py",
   "mimetype": "text/x-python",
   "name": "python",
   "nbconvert_exporter": "python",
   "pygments_lexer": "ipython2",
   "version": "2.7.6"
  }
 },
 "nbformat": 4,
 "nbformat_minor": 5
}
