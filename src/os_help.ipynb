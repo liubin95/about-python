{
 "cells": [
  {
   "cell_type": "code",
   "execution_count": null,
   "outputs": [],
   "source": [
    "import os\n",
    "\n",
    "print(os.getcwd())\n",
    "print(os.getenv(\"PATH\"))\n",
    "print(os.name)\n",
    "print(os.chdir(\"/Users/liubin/Downloads\"))\n",
    "print(os.getcwd())"
   ],
   "metadata": {
    "collapsed": false
   },
   "id": "34307c83d217423b"
  },
  {
   "cell_type": "code",
   "execution_count": null,
   "outputs": [],
   "source": [
    "from pathlib import Path\n",
    "\n",
    "Path().cwd()"
   ],
   "metadata": {
    "collapsed": false
   },
   "id": "7df2ad7d6b124968"
  },
  {
   "cell_type": "code",
   "execution_count": null,
   "outputs": [],
   "source": [
    "from liubin import utils\n",
    "\n",
    "utils.get_root_dir(), utils.get_data_dir()"
   ],
   "metadata": {
    "collapsed": false
   },
   "id": "79031e892d88c22d"
  }
 ],
 "metadata": {
  "kernelspec": {
   "display_name": "Python 3",
   "language": "python",
   "name": "python3"
  },
  "language_info": {
   "codemirror_mode": {
    "name": "ipython",
    "version": 2
   },
   "file_extension": ".py",
   "mimetype": "text/x-python",
   "name": "python",
   "nbconvert_exporter": "python",
   "pygments_lexer": "ipython2",
   "version": "2.7.6"
  }
 },
 "nbformat": 4,
 "nbformat_minor": 5
}
