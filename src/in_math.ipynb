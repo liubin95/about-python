{
 "cells": [
  {
   "cell_type": "code",
   "execution_count": null,
   "id": "initial_id",
   "metadata": {
    "collapsed": true
   },
   "outputs": [],
   "source": [
    "import math\n",
    "\n",
    "print(2 / 5)\n",
    "print(2 // 5, 2 % 5)\n",
    "print(2 ** 5)\n",
    "print(abs(-2))\n",
    "\n",
    "print(math.pi)\n",
    "print(math.trunc(3.14))\n",
    "print(math.floor(3.14))\n",
    "print(math.ceil(3.14))"
   ]
  },
  {
   "cell_type": "code",
   "execution_count": 10,
   "outputs": [
    {
     "name": "stdout",
     "output_type": "stream",
     "text": [
      "1\n",
      "70\n",
      "8.0\n",
      "0.8999999999999999\n",
      "0.9\n",
      "120\n"
     ]
    }
   ],
   "source": [
    "import math\n",
    "\n",
    "#最大公约数\n",
    "print(math.gcd(10, 5, 7))\n",
    "#最小公倍数\n",
    "print(math.lcm(10, 5, 7))\n",
    "# 2的3次方\n",
    "print(math.pow(2, 3))\n",
    "# sum\n",
    "print(sum([0.1, 0.1, 0.1, .1, .1, .1, .1, .1, .1]))\n",
    "print(math.fsum([0.1, 0.1, 0.1, .1, .1, .1, .1, .1, .1]))\n",
    "# prod\n",
    "print(math.prod([1, 2, 3, 4, 5]))\n"
   ],
   "metadata": {
    "collapsed": false,
    "ExecuteTime": {
     "end_time": "2023-11-14T07:35:55.127881Z",
     "start_time": "2023-11-14T07:35:55.122748Z"
    }
   },
   "id": "d8281fa7e2d9a1fa"
  }
 ],
 "metadata": {
  "kernelspec": {
   "display_name": "Python 3",
   "language": "python",
   "name": "python3"
  },
  "language_info": {
   "codemirror_mode": {
    "name": "ipython",
    "version": 2
   },
   "file_extension": ".py",
   "mimetype": "text/x-python",
   "name": "python",
   "nbconvert_exporter": "python",
   "pygments_lexer": "ipython2",
   "version": "2.7.6"
  }
 },
 "nbformat": 4,
 "nbformat_minor": 5
}
