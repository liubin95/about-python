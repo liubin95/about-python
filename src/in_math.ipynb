{
 "cells": [
  {
   "cell_type": "code",
   "execution_count": null,
   "id": "initial_id",
   "metadata": {
    "collapsed": true
   },
   "outputs": [],
   "source": [
    "import math\n",
    "\n",
    "print(2 / 5)\n",
    "print(2 // 5, 2 % 5)\n",
    "print(2**5)\n",
    "print(abs(-2))\n",
    "\n",
    "print(math.pi)\n",
    "print(math.trunc(3.14))\n",
    "print(math.floor(3.14))\n",
    "print(math.ceil(3.14))"
   ]
  },
  {
   "cell_type": "code",
   "execution_count": 10,
   "outputs": [
    {
     "name": "stdout",
     "output_type": "stream",
     "text": [
      "1\n",
      "70\n",
      "8.0\n",
      "0.8999999999999999\n",
      "0.9\n",
      "120\n"
     ]
    }
   ],
   "source": [
    "import math\n",
    "\n",
    "# 最大公约数\n",
    "print(math.gcd(10, 5, 7))\n",
    "# 最小公倍数\n",
    "print(math.lcm(10, 5, 7))\n",
    "# 2的3次方\n",
    "print(math.pow(2, 3))\n",
    "# sum\n",
    "print(sum([0.1, 0.1, 0.1, 0.1, 0.1, 0.1, 0.1, 0.1, 0.1]))\n",
    "print(math.fsum([0.1, 0.1, 0.1, 0.1, 0.1, 0.1, 0.1, 0.1, 0.1]))\n",
    "# prod\n",
    "print(math.prod([1, 2, 3, 4, 5]))"
   ],
   "metadata": {
    "collapsed": false,
    "ExecuteTime": {
     "end_time": "2023-11-14T07:35:55.127881Z",
     "start_time": "2023-11-14T07:35:55.122748Z"
    }
   },
   "id": "d8281fa7e2d9a1fa"
  },
  {
   "cell_type": "code",
   "execution_count": 31,
   "outputs": [
    {
     "name": "stdout",
     "output_type": "stream",
     "text": [
      "1/3\n",
      "2/3\n",
      "4/3\n",
      "34/33\n"
     ]
    }
   ],
   "source": [
    "from fractions import Fraction\n",
    "\n",
    "in_fractions = Fraction(1, 3)\n",
    "print(in_fractions)\n",
    "in_fractions += Fraction(\"1/3\")\n",
    "print(in_fractions)\n",
    "print(in_fractions * 2)\n",
    "\n",
    "in_fractions = Fraction(\"102/99\")\n",
    "print(Fraction(in_fractions.numerator, in_fractions.denominator))"
   ],
   "metadata": {
    "collapsed": false,
    "ExecuteTime": {
     "end_time": "2023-11-14T07:48:38.657205Z",
     "start_time": "2023-11-14T07:48:38.649841Z"
    }
   },
   "id": "7562c687327fc55b"
  },
  {
   "cell_type": "code",
   "execution_count": 42,
   "outputs": [
    {
     "name": "stdout",
     "output_type": "stream",
     "text": [
      "0.14285714285714285\n",
      "0.142857\n",
      "[Decimal('1.34'), Decimal('1.87'), Decimal('3.45'), Decimal('2.35'), Decimal('1.00'), Decimal('0.03'), Decimal('9.25')] [1.34, 1.87, 3.45, 2.35, 1.0, 0.03, 9.25]\n",
      "9.25 9.25\n",
      "19.29 19.29\n"
     ]
    }
   ],
   "source": [
    "from decimal import Decimal, getcontext\n",
    "\n",
    "getcontext().prec = 6\n",
    "print(1 / 7)\n",
    "print(Decimal(\"1\") / Decimal(\"7\"))\n",
    "\n",
    "data = list(map(Decimal, \"1.34 1.87 3.45 2.35 1.00 0.03 9.25\".split()))\n",
    "data_f = list(map(float, \"1.34 1.87 3.45 2.35 1.00 0.03 9.25\".split()))\n",
    "print(data, data_f)\n",
    "print(max(data), max(data_f))\n",
    "print(sum(data), sum(data_f))"
   ],
   "metadata": {
    "collapsed": false,
    "ExecuteTime": {
     "end_time": "2023-11-14T07:58:56.300807Z",
     "start_time": "2023-11-14T07:58:56.296052Z"
    }
   },
   "id": "909780b1a6e7016e"
  }
 ],
 "metadata": {
  "kernelspec": {
   "display_name": "Python 3",
   "language": "python",
   "name": "python3"
  },
  "language_info": {
   "codemirror_mode": {
    "name": "ipython",
    "version": 2
   },
   "file_extension": ".py",
   "mimetype": "text/x-python",
   "name": "python",
   "nbconvert_exporter": "python",
   "pygments_lexer": "ipython2",
   "version": "2.7.6"
  }
 },
 "nbformat": 4,
 "nbformat_minor": 5
}
