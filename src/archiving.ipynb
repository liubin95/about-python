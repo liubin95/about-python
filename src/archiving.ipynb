{
 "cells": [
  {
   "cell_type": "code",
   "execution_count": null,
   "outputs": [],
   "source": [
    "import tarfile\n",
    "from pathlib import Path\n",
    "from pprint import pprint\n",
    "\n",
    "_path = Path(\"/Users/liubin/Downloads\")\n",
    "_glob = list(_path.glob(\"*\"))\n",
    "pprint(_glob)\n",
    "# 当路径指向一个目录时，产生该路径下的对象的路径:\n",
    "_iterdir = list(_path.iterdir())\n",
    "pprint(_iterdir)\n",
    "print(_glob == _iterdir)\n",
    "with tarfile.open(_path / \"gz.tar.gz\", \"r:gz\") as tar:\n",
    "    for tarinfo in tar:\n",
    "        print(tarinfo.name, \"is\", tarinfo.size, \"bytes in size and is \", end=\"\")\n",
    "        if tarinfo.isreg():\n",
    "            pprint(\"a regular file.\")\n",
    "        elif tarinfo.isdir():\n",
    "            pprint(\"a directory.\")\n",
    "        else:\n",
    "            pprint(\"something else.\")"
   ],
   "metadata": {
    "collapsed": false
   },
   "id": "54d54e99bba733e"
  },
  {
   "cell_type": "code",
   "execution_count": null,
   "outputs": [],
   "source": [
    "# 归档文件\n",
    "with tarfile.open(_path / \"sample.tar\", \"w\") as tar:\n",
    "    for _file in list(_path.glob(\"*\"))[:5]:\n",
    "        print(_file)\n",
    "        # 默认情况下会递归地添加目录。 这可以通过将 recursive 设为 False 来避免。\n",
    "        tar.add(\n",
    "            _file,\n",
    "            arcname=_file.name,\n",
    "            recursive=False,\n",
    "            filter=lambda x: None if x.name == \".DS_Store\" else x,\n",
    "        )"
   ],
   "metadata": {
    "collapsed": false
   },
   "id": "fd5ddf9696c7187a"
  },
  {
   "cell_type": "code",
   "execution_count": null,
   "outputs": [],
   "source": [
    "# 提取文件\n",
    "with tarfile.open(_path / \"sample.tar\", \"r\") as tar:\n",
    "    tar.extractall(_path / \"sample\")"
   ],
   "metadata": {
    "collapsed": false
   },
   "id": "6ac6f1802fc5413e"
  },
  {
   "cell_type": "code",
   "execution_count": null,
   "outputs": [],
   "source": [
    "# 归档 + 压缩\n",
    "with tarfile.open(_path / \"sample.tar.gz\", \"w:gz\") as tar:\n",
    "    for _file in list(_path.glob(\"*\"))[5:10]:\n",
    "        print(_file)\n",
    "        # 默认情况下会递归地添加目录。 这可以通过将 recursive 设为 False 来避免。\n",
    "        tar.add(\n",
    "            _file,\n",
    "            arcname=_file.name,\n",
    "            recursive=False,\n",
    "            filter=lambda x: None if x.name == \".DS_Store\" else x,\n",
    "        )"
   ],
   "metadata": {
    "collapsed": false
   },
   "id": "d47c4a249d37f76e"
  },
  {
   "cell_type": "code",
   "execution_count": null,
   "outputs": [],
   "source": [
    "# 提取文件\n",
    "with tarfile.open(_path / \"sample.tar.gz\", \"r:gz\") as tar:\n",
    "    tar.extractall(_path / \"sample-gz\")"
   ],
   "metadata": {
    "collapsed": false
   },
   "id": "b11663e8a4ba820c"
  }
 ],
 "metadata": {
  "kernelspec": {
   "display_name": "Python 3",
   "language": "python",
   "name": "python3"
  },
  "language_info": {
   "codemirror_mode": {
    "name": "ipython",
    "version": 2
   },
   "file_extension": ".py",
   "mimetype": "text/x-python",
   "name": "python",
   "nbconvert_exporter": "python",
   "pygments_lexer": "ipython2",
   "version": "2.7.6"
  }
 },
 "nbformat": 4,
 "nbformat_minor": 5
}
