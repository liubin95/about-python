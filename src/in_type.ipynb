{
 "cells": [
  {
   "cell_type": "code",
   "execution_count": null,
   "outputs": [],
   "source": [
    "in_list = [16]\n",
    "print(in_list)\n",
    "in_list.append(12)\n",
    "in_list.insert(1, 0)\n",
    "print(in_list)\n",
    "in_list.append([1, 3])\n",
    "in_list.extend([1, 2, 3, 4, 5, 6, 7, 8, 9, 10])\n",
    "print(in_list)\n",
    "for it in in_list:\n",
    "    print(it)\n",
    "for index, it in enumerate(in_list):\n",
    "    print(index, it)"
   ],
   "metadata": {
    "collapsed": false
   },
   "id": "771ed3fc01b2b200"
  },
  {
   "cell_type": "code",
   "execution_count": null,
   "outputs": [],
   "source": [
    "in_tuple = (\"hello\", 12, False, \"world\")\n",
    "print(in_tuple)\n",
    "print(in_tuple[2])\n",
    "print(in_tuple[-1])\n",
    "print(in_tuple[1:3])\n",
    "print(in_tuple[1:])\n",
    "# tuple[2] = True\n",
    "for it in in_tuple:\n",
    "    print(it)\n",
    "for index, it in enumerate(in_tuple):\n",
    "    print(index, it)"
   ],
   "metadata": {
    "collapsed": false
   },
   "id": "14de8f584ba4a113"
  },
  {
   "cell_type": "code",
   "execution_count": null,
   "outputs": [],
   "source": [
    "in_set = {\"hello\", 12, False, \"world\", False}\n",
    "print(in_set)"
   ],
   "metadata": {
    "collapsed": false
   },
   "id": "1f36790aac5d6094"
  },
  {
   "cell_type": "code",
   "execution_count": null,
   "outputs": [],
   "source": [
    "# dict key can be any immutable type\n",
    "in_dict = {\"name\": \"hello\", 12: 12, \"isTrue\": False, \"content\": \"world\"}\n",
    "print(in_dict)\n",
    "in_dict[\"new name\"] = \"new value\"\n",
    "print(in_dict)\n",
    "print(in_dict[\"name\"])\n",
    "in_dict[\"name\"] = \"new name\"\n",
    "print(in_dict[\"name\"])\n",
    "\n",
    "in_dict = dict(name=\"hello\", length=12, isTrue=False, content=\"world\")\n",
    "print(in_dict)\n",
    "del in_dict[\"name\"]\n",
    "print(\"name\" in in_dict)\n",
    "for key in in_dict:\n",
    "    print(key, in_dict[key])"
   ],
   "metadata": {
    "collapsed": false
   },
   "id": "dca853163130b8ce"
  },
  {
   "cell_type": "code",
   "execution_count": 66,
   "outputs": [
    {
     "name": "stdout",
     "output_type": "stream",
     "text": [
      "2023-11-14\n",
      "2023-11-14 15:20:46.943038\n",
      "2023 11 14\n",
      "2020-01-01 12:30:00\n",
      "2023-11-14-Tuesday 15:20:46\n",
      "2020-01-01 12:30:00\n",
      "2020-01-01 12:30:00\n",
      "True\n",
      "True\n",
      "1413 days, 2:50:46.943274\n",
      "2020-12-31 12:30:00\n",
      "2022-12-31 12:30:00\n"
     ]
    }
   ],
   "source": [
    "from datetime import date, datetime, time, timedelta\n",
    "\n",
    "in_date = date.today()\n",
    "print(in_date)\n",
    "in_date_time = datetime.now()\n",
    "print(in_date_time)\n",
    "print(in_date_time.year, in_date_time.month, in_date_time.day)\n",
    "print(datetime.strptime(\"2020-01-01 12:30:00\", \"%Y-%m-%d %H:%M:%S\"))\n",
    "# 格式化输出\n",
    "print(in_date_time.strftime(\"%Y-%m-%d-%A %H:%M:%S\"))\n",
    "in_date = date(2020, 1, 1)\n",
    "in_time = time(12, 30)\n",
    "in_date_time = datetime.combine(in_date, in_time)\n",
    "print(in_date_time)\n",
    "print(datetime(2020, 1, 1, 12, 30))\n",
    "print(datetime(2020, 1, 1, 12, 30) == in_date_time)\n",
    "print(in_date_time < datetime.now())\n",
    "in_timedelta = datetime.now() - in_date_time\n",
    "print(in_timedelta)\n",
    "in_timedelta = timedelta(days=365)\n",
    "in_date_time += in_timedelta\n",
    "print(in_date_time)\n",
    "in_timedelta = in_timedelta * 2\n",
    "in_date_time += in_timedelta\n",
    "print(in_date_time)"
   ],
   "metadata": {
    "collapsed": false,
    "ExecuteTime": {
     "end_time": "2023-11-14T07:20:46.948336Z",
     "start_time": "2023-11-14T07:20:46.945283Z"
    }
   },
   "id": "efd9eaab9765049e"
  }
 ],
 "metadata": {
  "kernelspec": {
   "display_name": "Python 3",
   "language": "python",
   "name": "python3"
  },
  "language_info": {
   "codemirror_mode": {
    "name": "ipython",
    "version": 2
   },
   "file_extension": ".py",
   "mimetype": "text/x-python",
   "name": "python",
   "nbconvert_exporter": "python",
   "pygments_lexer": "ipython2",
   "version": "2.7.6"
  }
 },
 "nbformat": 4,
 "nbformat_minor": 5
}
